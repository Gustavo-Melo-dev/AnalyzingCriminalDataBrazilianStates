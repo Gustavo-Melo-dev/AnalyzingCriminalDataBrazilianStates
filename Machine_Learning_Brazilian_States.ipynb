{
  "nbformat": 4,
  "nbformat_minor": 0,
  "metadata": {
    "colab": {
      "name": "Machine Learning Brazilian States",
      "provenance": [],
      "collapsed_sections": [],
      "include_colab_link": true
    },
    "kernelspec": {
      "name": "python3",
      "display_name": "Python 3"
    },
    "language_info": {
      "name": "python"
    }
  },
  "cells": [
    {
      "cell_type": "markdown",
      "metadata": {
        "id": "view-in-github",
        "colab_type": "text"
      },
      "source": [
        "<a href=\"https://colab.research.google.com/github/Gustavo-Melo-dev/AnalyzingCriminalDataBrazilianStates/blob/main/Machine_Learning_Brazilian_States.ipynb\" target=\"_parent\"><img src=\"https://colab.research.google.com/assets/colab-badge.svg\" alt=\"Open In Colab\"/></a>"
      ]
    },
    {
      "cell_type": "code",
      "metadata": {
        "id": "eGfHu89a6a_Z",
        "colab": {
          "base_uri": "https://localhost:8080/"
        },
        "outputId": "54dd0855-8e79-483a-889d-3117f0334e4f"
      },
      "source": [
        "from google.colab import drive\n",
        "drive.mount('/content/drive')\n",
        "\n",
        "import pandas as pd\n",
        "\n",
        "base = pd.read_excel(\"/content/drive/MyDrive/MachineLearning/indicadoressegurancapublicauf.xlsx\", sheet_name=\"Ocorrências\")"
      ],
      "execution_count": null,
      "outputs": [
        {
          "output_type": "stream",
          "name": "stdout",
          "text": [
            "Drive already mounted at /content/drive; to attempt to forcibly remount, call drive.mount(\"/content/drive\", force_remount=True).\n"
          ]
        }
      ]
    },
    {
      "cell_type": "markdown",
      "metadata": {
        "id": "E0g6N1Q5ZVwi"
      },
      "source": [
        ""
      ]
    },
    {
      "cell_type": "code",
      "metadata": {
        "id": "LdCuHLA3sNHS",
        "colab": {
          "base_uri": "https://localhost:8080/",
          "height": 206
        },
        "outputId": "c01bc559-1bd7-4eba-daab-c4966b9cc6ca"
      },
      "source": [
        "# Faz a remoção dos dados que correspondem ao ano de 2021, deixando assim a base mais balanceada e levando em consideração que é o único ano que não possui informações de todos os meses.\n",
        "\n",
        "base = base.drop(base[base['Ano'] == 2021].index)\n",
        "base.head()"
      ],
      "execution_count": null,
      "outputs": [
        {
          "output_type": "execute_result",
          "data": {
            "text/html": [
              "<div>\n",
              "<style scoped>\n",
              "    .dataframe tbody tr th:only-of-type {\n",
              "        vertical-align: middle;\n",
              "    }\n",
              "\n",
              "    .dataframe tbody tr th {\n",
              "        vertical-align: top;\n",
              "    }\n",
              "\n",
              "    .dataframe thead th {\n",
              "        text-align: right;\n",
              "    }\n",
              "</style>\n",
              "<table border=\"1\" class=\"dataframe\">\n",
              "  <thead>\n",
              "    <tr style=\"text-align: right;\">\n",
              "      <th></th>\n",
              "      <th>UF</th>\n",
              "      <th>Tipo Crime</th>\n",
              "      <th>Ano</th>\n",
              "      <th>Mês</th>\n",
              "      <th>Ocorrências</th>\n",
              "    </tr>\n",
              "  </thead>\n",
              "  <tbody>\n",
              "    <tr>\n",
              "      <th>1652</th>\n",
              "      <td>Acre</td>\n",
              "      <td>Estupro</td>\n",
              "      <td>2020</td>\n",
              "      <td>janeiro</td>\n",
              "      <td>18</td>\n",
              "    </tr>\n",
              "    <tr>\n",
              "      <th>1653</th>\n",
              "      <td>Acre</td>\n",
              "      <td>Furto de veículo</td>\n",
              "      <td>2020</td>\n",
              "      <td>janeiro</td>\n",
              "      <td>23</td>\n",
              "    </tr>\n",
              "    <tr>\n",
              "      <th>1654</th>\n",
              "      <td>Acre</td>\n",
              "      <td>Homicídio doloso</td>\n",
              "      <td>2020</td>\n",
              "      <td>janeiro</td>\n",
              "      <td>46</td>\n",
              "    </tr>\n",
              "    <tr>\n",
              "      <th>1655</th>\n",
              "      <td>Acre</td>\n",
              "      <td>Lesão corporal seguida de morte</td>\n",
              "      <td>2020</td>\n",
              "      <td>janeiro</td>\n",
              "      <td>0</td>\n",
              "    </tr>\n",
              "    <tr>\n",
              "      <th>1656</th>\n",
              "      <td>Acre</td>\n",
              "      <td>Roubo a instituição financeira</td>\n",
              "      <td>2020</td>\n",
              "      <td>janeiro</td>\n",
              "      <td>0</td>\n",
              "    </tr>\n",
              "  </tbody>\n",
              "</table>\n",
              "</div>"
            ],
            "text/plain": [
              "        UF                       Tipo Crime   Ano      Mês  Ocorrências\n",
              "1652  Acre                          Estupro  2020  janeiro           18\n",
              "1653  Acre                 Furto de veículo  2020  janeiro           23\n",
              "1654  Acre                 Homicídio doloso  2020  janeiro           46\n",
              "1655  Acre  Lesão corporal seguida de morte  2020  janeiro            0\n",
              "1656  Acre   Roubo a instituição financeira  2020  janeiro            0"
            ]
          },
          "metadata": {},
          "execution_count": 14
        }
      ]
    },
    {
      "cell_type": "code",
      "metadata": {
        "id": "fp5kT7tKm-_M"
      },
      "source": [
        "# Agrupando os dados para obter somente os Anos e os Estados, com a intenção de alinhar os estados em cada ano correspondente.\n",
        "\n",
        "groupAnoUf = base.groupby(['Ano', 'UF'])['Ocorrências'].sum()\n",
        "\n",
        "baseSPEstados = pd.DataFrame()\n",
        "\n",
        "colunaAno = pd.Series([])\n",
        "colunaUf = pd.Series([])\n",
        "\n",
        "row = 0\n",
        "\n",
        "for index, value in groupAnoUf.iteritems():\n",
        "  colunaAno[row] = index[0]\n",
        "  colunaUf[row] = index[1]\n",
        "  row += 1\n",
        "\n",
        "baseSPEstados['Ano'] = colunaAno\n",
        "baseSPEstados['UF'] = colunaUf"
      ],
      "execution_count": null,
      "outputs": []
    },
    {
      "cell_type": "code",
      "metadata": {
        "id": "AjEEWhntxtV6",
        "colab": {
          "base_uri": "https://localhost:8080/",
          "height": 484
        },
        "outputId": "fd2416e1-ca46-41bc-db2d-267b5affb162"
      },
      "source": [
        "# Contabilizando o número total de cada crime de cada estado em cada ano.\n",
        "\n",
        "columns=['Ano', 'UF', 'Estupro', 'Furto de veículo', 'Homicídio doloso', 'Lesão corporal seguida de morte', 'Roubo a instituição financeira', 'Roubo de carga', 'Roubo de veículo', 'Roubo seguido de morte (latrocínio)', 'Tentativa de homicídio']\n",
        "baseSPEstados = pd.DataFrame(baseSPEstados, columns=columns)\n",
        "\n",
        "groupTiposCrimes = base.groupby(['Ano', 'UF', 'Tipo Crime'])['Ocorrências'].sum()\n",
        "groupTiposCrimes\n",
        "\n",
        "row = -1\n",
        "uf = 'uf'\n",
        "\n",
        "for index, total in groupTiposCrimes.iteritems():\n",
        "  if(index[1] != uf):\n",
        "    row += 1\n",
        "    uf = index[1]\n",
        "\n",
        "  if(baseSPEstados['Ano'][row] == index[0] and baseSPEstados['UF'][row] == index[1]):\n",
        "    baseSPEstados[index[2]][row] = total\n",
        "\n",
        "baseSPEstados.head(10)"
      ],
      "execution_count": null,
      "outputs": [
        {
          "output_type": "stream",
          "name": "stderr",
          "text": [
            "/usr/local/lib/python3.7/dist-packages/ipykernel_launcher.py:18: SettingWithCopyWarning: \n",
            "A value is trying to be set on a copy of a slice from a DataFrame\n",
            "\n",
            "See the caveats in the documentation: https://pandas.pydata.org/pandas-docs/stable/user_guide/indexing.html#returning-a-view-versus-a-copy\n"
          ]
        },
        {
          "output_type": "execute_result",
          "data": {
            "text/html": [
              "<div>\n",
              "<style scoped>\n",
              "    .dataframe tbody tr th:only-of-type {\n",
              "        vertical-align: middle;\n",
              "    }\n",
              "\n",
              "    .dataframe tbody tr th {\n",
              "        vertical-align: top;\n",
              "    }\n",
              "\n",
              "    .dataframe thead th {\n",
              "        text-align: right;\n",
              "    }\n",
              "</style>\n",
              "<table border=\"1\" class=\"dataframe\">\n",
              "  <thead>\n",
              "    <tr style=\"text-align: right;\">\n",
              "      <th></th>\n",
              "      <th>Ano</th>\n",
              "      <th>UF</th>\n",
              "      <th>Estupro</th>\n",
              "      <th>Furto de veículo</th>\n",
              "      <th>Homicídio doloso</th>\n",
              "      <th>Lesão corporal seguida de morte</th>\n",
              "      <th>Roubo a instituição financeira</th>\n",
              "      <th>Roubo de carga</th>\n",
              "      <th>Roubo de veículo</th>\n",
              "      <th>Roubo seguido de morte (latrocínio)</th>\n",
              "      <th>Tentativa de homicídio</th>\n",
              "    </tr>\n",
              "  </thead>\n",
              "  <tbody>\n",
              "    <tr>\n",
              "      <th>0</th>\n",
              "      <td>2015</td>\n",
              "      <td>Acre</td>\n",
              "      <td>42.0</td>\n",
              "      <td>0.0</td>\n",
              "      <td>189.0</td>\n",
              "      <td>3.0</td>\n",
              "      <td>0.0</td>\n",
              "      <td>0.0</td>\n",
              "      <td>0.0</td>\n",
              "      <td>10.0</td>\n",
              "      <td>16.0</td>\n",
              "    </tr>\n",
              "    <tr>\n",
              "      <th>1</th>\n",
              "      <td>2015</td>\n",
              "      <td>Alagoas</td>\n",
              "      <td>567.0</td>\n",
              "      <td>696.0</td>\n",
              "      <td>1633.0</td>\n",
              "      <td>9.0</td>\n",
              "      <td>21.0</td>\n",
              "      <td>95.0</td>\n",
              "      <td>3158.0</td>\n",
              "      <td>56.0</td>\n",
              "      <td>704.0</td>\n",
              "    </tr>\n",
              "    <tr>\n",
              "      <th>2</th>\n",
              "      <td>2015</td>\n",
              "      <td>Amapá</td>\n",
              "      <td>354.0</td>\n",
              "      <td>877.0</td>\n",
              "      <td>248.0</td>\n",
              "      <td>2.0</td>\n",
              "      <td>2.0</td>\n",
              "      <td>NaN</td>\n",
              "      <td>310.0</td>\n",
              "      <td>17.0</td>\n",
              "      <td>315.0</td>\n",
              "    </tr>\n",
              "    <tr>\n",
              "      <th>3</th>\n",
              "      <td>2015</td>\n",
              "      <td>Amazonas</td>\n",
              "      <td>756.0</td>\n",
              "      <td>1867.0</td>\n",
              "      <td>1313.0</td>\n",
              "      <td>8.0</td>\n",
              "      <td>52.0</td>\n",
              "      <td>0.0</td>\n",
              "      <td>2781.0</td>\n",
              "      <td>69.0</td>\n",
              "      <td>394.0</td>\n",
              "    </tr>\n",
              "    <tr>\n",
              "      <th>4</th>\n",
              "      <td>2015</td>\n",
              "      <td>Bahia</td>\n",
              "      <td>2450.0</td>\n",
              "      <td>5539.0</td>\n",
              "      <td>5422.0</td>\n",
              "      <td>125.0</td>\n",
              "      <td>60.0</td>\n",
              "      <td>436.0</td>\n",
              "      <td>14451.0</td>\n",
              "      <td>204.0</td>\n",
              "      <td>2844.0</td>\n",
              "    </tr>\n",
              "    <tr>\n",
              "      <th>5</th>\n",
              "      <td>2015</td>\n",
              "      <td>Ceará</td>\n",
              "      <td>1454.0</td>\n",
              "      <td>4839.0</td>\n",
              "      <td>3787.0</td>\n",
              "      <td>30.0</td>\n",
              "      <td>60.0</td>\n",
              "      <td>212.0</td>\n",
              "      <td>9411.0</td>\n",
              "      <td>64.0</td>\n",
              "      <td>1629.0</td>\n",
              "    </tr>\n",
              "    <tr>\n",
              "      <th>6</th>\n",
              "      <td>2015</td>\n",
              "      <td>Distrito Federal</td>\n",
              "      <td>625.0</td>\n",
              "      <td>6500.0</td>\n",
              "      <td>614.0</td>\n",
              "      <td>6.0</td>\n",
              "      <td>8.0</td>\n",
              "      <td>31.0</td>\n",
              "      <td>4807.0</td>\n",
              "      <td>45.0</td>\n",
              "      <td>676.0</td>\n",
              "    </tr>\n",
              "    <tr>\n",
              "      <th>7</th>\n",
              "      <td>2015</td>\n",
              "      <td>Espírito Santo</td>\n",
              "      <td>404.0</td>\n",
              "      <td>3075.0</td>\n",
              "      <td>1392.0</td>\n",
              "      <td>16.0</td>\n",
              "      <td>12.0</td>\n",
              "      <td>28.0</td>\n",
              "      <td>2960.0</td>\n",
              "      <td>37.0</td>\n",
              "      <td>2633.0</td>\n",
              "    </tr>\n",
              "    <tr>\n",
              "      <th>8</th>\n",
              "      <td>2015</td>\n",
              "      <td>Goiás</td>\n",
              "      <td>535.0</td>\n",
              "      <td>12008.0</td>\n",
              "      <td>2729.0</td>\n",
              "      <td>23.0</td>\n",
              "      <td>87.0</td>\n",
              "      <td>452.0</td>\n",
              "      <td>9554.0</td>\n",
              "      <td>89.0</td>\n",
              "      <td>2507.0</td>\n",
              "    </tr>\n",
              "    <tr>\n",
              "      <th>9</th>\n",
              "      <td>2015</td>\n",
              "      <td>Maranhão</td>\n",
              "      <td>952.0</td>\n",
              "      <td>2240.0</td>\n",
              "      <td>2006.0</td>\n",
              "      <td>67.0</td>\n",
              "      <td>152.0</td>\n",
              "      <td>48.0</td>\n",
              "      <td>4065.0</td>\n",
              "      <td>117.0</td>\n",
              "      <td>1197.0</td>\n",
              "    </tr>\n",
              "  </tbody>\n",
              "</table>\n",
              "</div>"
            ],
            "text/plain": [
              "    Ano  ... Tentativa de homicídio\n",
              "0  2015  ...                   16.0\n",
              "1  2015  ...                  704.0\n",
              "2  2015  ...                  315.0\n",
              "3  2015  ...                  394.0\n",
              "4  2015  ...                 2844.0\n",
              "5  2015  ...                 1629.0\n",
              "6  2015  ...                  676.0\n",
              "7  2015  ...                 2633.0\n",
              "8  2015  ...                 2507.0\n",
              "9  2015  ...                 1197.0\n",
              "\n",
              "[10 rows x 11 columns]"
            ]
          },
          "metadata": {},
          "execution_count": 16
        }
      ]
    },
    {
      "cell_type": "code",
      "metadata": {
        "id": "V6jyKXtv0YMC"
      },
      "source": [
        "# Atribuindo o valor 0 (zero) nos campos que não possuem informações.\n",
        "\n",
        "baseSPEstados = baseSPEstados.fillna(0)"
      ],
      "execution_count": null,
      "outputs": []
    },
    {
      "cell_type": "markdown",
      "metadata": {
        "id": "DFQ5HbtAvv3p"
      },
      "source": [
        "**Visualização dos Dados com Gráficos**"
      ]
    },
    {
      "cell_type": "code",
      "metadata": {
        "id": "xI9kZUf2vmMb"
      },
      "source": [
        "import seaborn as sns\n",
        "from sklearn import preprocessing"
      ],
      "execution_count": null,
      "outputs": []
    },
    {
      "cell_type": "code",
      "metadata": {
        "id": "wNQhKFFDpks_"
      },
      "source": [
        "# Fazendo a seleção das colunas com os dados que serão trabalhados. Somente as colunas que correspondem aos crimes de Roubo/Furto, é que serão utilizadas.\n",
        "\n",
        "baseSPEstados = pd.DataFrame(baseSPEstados, columns=['Ano', 'UF', 'Região', 'Furto de veículo', 'Roubo a instituição financeira', 'Roubo de carga', 'Roubo de veículo', 'Roubo seguido de morte (latrocínio)'])"
      ],
      "execution_count": null,
      "outputs": []
    },
    {
      "cell_type": "code",
      "metadata": {
        "id": "FjW_KhPzq0oT",
        "colab": {
          "base_uri": "https://localhost:8080/",
          "height": 456
        },
        "outputId": "9361d363-ec26-4358-a36a-38a934dd0ae5"
      },
      "source": [
        "columns = ['Furto de veículo', 'Roubo a instituição financeira', 'Roubo de carga', 'Roubo de veículo', 'Roubo seguido de morte (latrocínio)']\n",
        "\n",
        "ano = 2015\n",
        "ano = 2016\n",
        "ano = 2017\n",
        "ano = 2018\n",
        "ano = 2019\n",
        "ano = 2020\n",
        "  \n",
        "corr_baseSPEstados = baseSPEstados[baseSPEstados['Ano'] == ano]\n",
        "corr_baseSPEstados = corr_baseSPEstados[columns].corr()\n",
        "sns.heatmap(corr_baseSPEstados, xticklabels=columns, yticklabels=columns, annot=True)\n"
      ],
      "execution_count": null,
      "outputs": [
        {
          "output_type": "execute_result",
          "data": {
            "text/plain": [
              "<matplotlib.axes._subplots.AxesSubplot at 0x7f4d98a50210>"
            ]
          },
          "metadata": {},
          "execution_count": 22
        },
        {
          "output_type": "display_data",
          "data": {
            "image/png": "[encoded data removed]",
            "text/plain": [
              "<Figure size 432x288 with 2 Axes>"
            ]
          },
          "metadata": {
            "needs_background": "light"
          }
        }
      ]
    },
    {
      "cell_type": "code",
      "metadata": {
        "id": "dg4fo50t1wvT"
      },
      "source": [
        "# Normalizando os dados para que todos fiquem dentro da mesma escala de valores\n",
        "\n",
        "columns = ['Furto de veículo', 'Roubo a instituição financeira', 'Roubo de carga', 'Roubo de veículo', 'Roubo seguido de morte (latrocínio)']\n",
        "\n",
        "baseSPEstados_paraEscala = baseSPEstados[columns].values\n",
        "\n",
        "min_max_scaler = preprocessing.MinMaxScaler()\n",
        "baseSPEstados_comEscala = min_max_scaler.fit_transform(baseSPEstados_paraEscala)\n",
        "\n",
        "baseSPEstados_escala = pd.DataFrame(baseSPEstados_comEscala, index=baseSPEstados.index, columns=columns)\n",
        "baseSPEstados_escala.head()\n",
        "\n",
        "baseSPEstados = pd.DataFrame()\n",
        "\n",
        "baseSPEstados['Ano'] = colunaAno\n",
        "baseSPEstados['UF'] = colunaUf\n",
        "\n",
        "baseSPEstados = pd.concat([baseSPEstados, baseSPEstados_escala], axis=1)"
      ],
      "execution_count": null,
      "outputs": []
    },
    {
      "cell_type": "code",
      "metadata": {
        "id": "i8Y8fgTxtxBb",
        "colab": {
          "base_uri": "https://localhost:8080/",
          "height": 363
        },
        "outputId": "77bae2f4-767d-4e4f-fa7b-23552508ca7e"
      },
      "source": [
        "#Adicionando a região que cada estado pertence para melhor avaliação\n",
        "\n",
        "#Região Norte\n",
        "baseSPEstados.loc[baseSPEstados['UF'] == 'Acre', 'Região'] = 'NORTE'\n",
        "baseSPEstados.loc[baseSPEstados['UF'] == 'Amapá', 'Região'] = 'NORTE'\n",
        "baseSPEstados.loc[baseSPEstados['UF'] == 'Amazonas', 'Região'] = 'NORTE'\n",
        "baseSPEstados.loc[baseSPEstados['UF'] == 'Pará', 'Região'] = 'NORTE'\n",
        "baseSPEstados.loc[baseSPEstados['UF'] == 'Rondônia', 'Região'] = 'NORTE'\n",
        "baseSPEstados.loc[baseSPEstados['UF'] == 'Roraima', 'Região'] = 'NORTE'\n",
        "baseSPEstados.loc[baseSPEstados['UF'] == 'Tocantins', 'Região'] = 'NORTE'\n",
        "\n",
        "#Região Nordeste\n",
        "baseSPEstados.loc[baseSPEstados['UF'] == 'Maranhão', 'Região'] = 'NORDESTE'\n",
        "baseSPEstados.loc[baseSPEstados['UF'] == 'Piauí', 'Região'] = 'NORDESTE'\n",
        "baseSPEstados.loc[baseSPEstados['UF'] == 'Ceará', 'Região'] = 'NORDESTE'\n",
        "baseSPEstados.loc[baseSPEstados['UF'] == 'Rio Grande do Norte', 'Região'] = 'NORDESTE'\n",
        "baseSPEstados.loc[baseSPEstados['UF'] == 'Pernambuco', 'Região'] = 'NORDESTE'\n",
        "baseSPEstados.loc[baseSPEstados['UF'] == 'Paraíba', 'Região'] = 'NORDESTE'\n",
        "baseSPEstados.loc[baseSPEstados['UF'] == 'Sergipe', 'Região'] = 'NORDESTE'\n",
        "baseSPEstados.loc[baseSPEstados['UF'] == 'Alagoas', 'Região'] = 'NORDESTE'\n",
        "baseSPEstados.loc[baseSPEstados['UF'] == 'Bahia', 'Região'] = 'NORDESTE'\n",
        "\n",
        "#Região Centro-Oeste\n",
        "baseSPEstados.loc[baseSPEstados['UF'] == 'Mato Grosso', 'Região'] = 'CENTRO-OESTE'\n",
        "baseSPEstados.loc[baseSPEstados['UF'] == 'Mato Grosso do Sul', 'Região'] = 'CENTRO-OESTE'\n",
        "baseSPEstados.loc[baseSPEstados['UF'] == 'Goiás', 'Região'] = 'CENTRO-OESTE'\n",
        "baseSPEstados.loc[baseSPEstados['UF'] == 'Distrito Federal', 'Região'] = 'CENTRO-OESTE'\n",
        "\n",
        "#Região Sudeste\n",
        "baseSPEstados.loc[baseSPEstados['UF'] == 'Espírito Santo', 'Região'] = 'SUDESTE'\n",
        "baseSPEstados.loc[baseSPEstados['UF'] == 'São Paulo', 'Região'] = 'SUDESTE'\n",
        "baseSPEstados.loc[baseSPEstados['UF'] == 'Minas Gerais', 'Região'] = 'SUDESTE'\n",
        "baseSPEstados.loc[baseSPEstados['UF'] == 'Rio de Janeiro', 'Região'] = 'SUDESTE'\n",
        "\n",
        "#Região Sul\n",
        "baseSPEstados.loc[baseSPEstados['UF'] == 'Paraná', 'Região'] = 'SUL'\n",
        "baseSPEstados.loc[baseSPEstados['UF'] == 'Santa Catarina', 'Região'] = 'SUL'\n",
        "baseSPEstados.loc[baseSPEstados['UF'] == 'Rio Grande do Sul', 'Região'] = 'SUL'\n",
        "\n",
        "baseSPEstados.head(10)"
      ],
      "execution_count": null,
      "outputs": [
        {
          "output_type": "execute_result",
          "data": {
            "text/html": [
              "<div>\n",
              "<style scoped>\n",
              "    .dataframe tbody tr th:only-of-type {\n",
              "        vertical-align: middle;\n",
              "    }\n",
              "\n",
              "    .dataframe tbody tr th {\n",
              "        vertical-align: top;\n",
              "    }\n",
              "\n",
              "    .dataframe thead th {\n",
              "        text-align: right;\n",
              "    }\n",
              "</style>\n",
              "<table border=\"1\" class=\"dataframe\">\n",
              "  <thead>\n",
              "    <tr style=\"text-align: right;\">\n",
              "      <th></th>\n",
              "      <th>Ano</th>\n",
              "      <th>UF</th>\n",
              "      <th>Furto de veículo</th>\n",
              "      <th>Roubo a instituição financeira</th>\n",
              "      <th>Roubo de carga</th>\n",
              "      <th>Roubo de veículo</th>\n",
              "      <th>Roubo seguido de morte (latrocínio)</th>\n",
              "      <th>Região</th>\n",
              "    </tr>\n",
              "  </thead>\n",
              "  <tbody>\n",
              "    <tr>\n",
              "      <th>0</th>\n",
              "      <td>2015</td>\n",
              "      <td>Acre</td>\n",
              "      <td>0.000000</td>\n",
              "      <td>0.000000</td>\n",
              "      <td>0.000000</td>\n",
              "      <td>0.000000</td>\n",
              "      <td>0.020057</td>\n",
              "      <td>NORTE</td>\n",
              "    </tr>\n",
              "    <tr>\n",
              "      <th>1</th>\n",
              "      <td>2015</td>\n",
              "      <td>Alagoas</td>\n",
              "      <td>0.006274</td>\n",
              "      <td>0.132075</td>\n",
              "      <td>0.008963</td>\n",
              "      <td>0.040148</td>\n",
              "      <td>0.151862</td>\n",
              "      <td>NORDESTE</td>\n",
              "    </tr>\n",
              "    <tr>\n",
              "      <th>2</th>\n",
              "      <td>2015</td>\n",
              "      <td>Amapá</td>\n",
              "      <td>0.007906</td>\n",
              "      <td>0.012579</td>\n",
              "      <td>0.000000</td>\n",
              "      <td>0.003941</td>\n",
              "      <td>0.040115</td>\n",
              "      <td>NORTE</td>\n",
              "    </tr>\n",
              "    <tr>\n",
              "      <th>3</th>\n",
              "      <td>2015</td>\n",
              "      <td>Amazonas</td>\n",
              "      <td>0.016830</td>\n",
              "      <td>0.327044</td>\n",
              "      <td>0.000000</td>\n",
              "      <td>0.035355</td>\n",
              "      <td>0.189112</td>\n",
              "      <td>NORTE</td>\n",
              "    </tr>\n",
              "    <tr>\n",
              "      <th>4</th>\n",
              "      <td>2015</td>\n",
              "      <td>Bahia</td>\n",
              "      <td>0.049931</td>\n",
              "      <td>0.377358</td>\n",
              "      <td>0.041136</td>\n",
              "      <td>0.183717</td>\n",
              "      <td>0.575931</td>\n",
              "      <td>NORDESTE</td>\n",
              "    </tr>\n",
              "    <tr>\n",
              "      <th>5</th>\n",
              "      <td>2015</td>\n",
              "      <td>Ceará</td>\n",
              "      <td>0.043621</td>\n",
              "      <td>0.377358</td>\n",
              "      <td>0.020002</td>\n",
              "      <td>0.119643</td>\n",
              "      <td>0.174785</td>\n",
              "      <td>NORDESTE</td>\n",
              "    </tr>\n",
              "    <tr>\n",
              "      <th>6</th>\n",
              "      <td>2015</td>\n",
              "      <td>Distrito Federal</td>\n",
              "      <td>0.058594</td>\n",
              "      <td>0.050314</td>\n",
              "      <td>0.002925</td>\n",
              "      <td>0.061112</td>\n",
              "      <td>0.120344</td>\n",
              "      <td>CENTRO-OESTE</td>\n",
              "    </tr>\n",
              "    <tr>\n",
              "      <th>7</th>\n",
              "      <td>2015</td>\n",
              "      <td>Espírito Santo</td>\n",
              "      <td>0.027720</td>\n",
              "      <td>0.075472</td>\n",
              "      <td>0.002642</td>\n",
              "      <td>0.037631</td>\n",
              "      <td>0.097421</td>\n",
              "      <td>SUDESTE</td>\n",
              "    </tr>\n",
              "    <tr>\n",
              "      <th>8</th>\n",
              "      <td>2015</td>\n",
              "      <td>Goiás</td>\n",
              "      <td>0.108246</td>\n",
              "      <td>0.547170</td>\n",
              "      <td>0.042646</td>\n",
              "      <td>0.121461</td>\n",
              "      <td>0.246418</td>\n",
              "      <td>CENTRO-OESTE</td>\n",
              "    </tr>\n",
              "    <tr>\n",
              "      <th>9</th>\n",
              "      <td>2015</td>\n",
              "      <td>Maranhão</td>\n",
              "      <td>0.020193</td>\n",
              "      <td>0.955975</td>\n",
              "      <td>0.004529</td>\n",
              "      <td>0.051679</td>\n",
              "      <td>0.326648</td>\n",
              "      <td>NORDESTE</td>\n",
              "    </tr>\n",
              "  </tbody>\n",
              "</table>\n",
              "</div>"
            ],
            "text/plain": [
              "    Ano                UF  ...  Roubo seguido de morte (latrocínio)        Região\n",
              "0  2015              Acre  ...                             0.020057         NORTE\n",
              "1  2015           Alagoas  ...                             0.151862      NORDESTE\n",
              "2  2015             Amapá  ...                             0.040115         NORTE\n",
              "3  2015          Amazonas  ...                             0.189112         NORTE\n",
              "4  2015             Bahia  ...                             0.575931      NORDESTE\n",
              "5  2015             Ceará  ...                             0.174785      NORDESTE\n",
              "6  2015  Distrito Federal  ...                             0.120344  CENTRO-OESTE\n",
              "7  2015    Espírito Santo  ...                             0.097421       SUDESTE\n",
              "8  2015             Goiás  ...                             0.246418  CENTRO-OESTE\n",
              "9  2015          Maranhão  ...                             0.326648      NORDESTE\n",
              "\n",
              "[10 rows x 8 columns]"
            ]
          },
          "metadata": {},
          "execution_count": 24
        }
      ]
    },
    {
      "cell_type": "markdown",
      "metadata": {
        "id": "cSl6fx8JJ-8u"
      },
      "source": [
        "# **Algoritmo**"
      ]
    },
    {
      "cell_type": "markdown",
      "metadata": {
        "id": "M2o8uFhiu_-8"
      },
      "source": [
        "**K-Means**"
      ]
    },
    {
      "cell_type": "code",
      "metadata": {
        "id": "UNnCkeyVKPc2"
      },
      "source": [
        "from sklearn.cluster import KMeans\n",
        "from sklearn import metrics"
      ],
      "execution_count": null,
      "outputs": []
    },
    {
      "cell_type": "code",
      "metadata": {
        "colab": {
          "base_uri": "https://localhost:8080/"
        },
        "id": "kb-BXGfEKDRN",
        "outputId": "85931c30-0f21-48e3-fb89-88e32ea953a2"
      },
      "source": [
        "columns = ['Furto de veículo', 'Roubo a instituição financeira', 'Roubo de carga', 'Roubo de veículo', 'Roubo seguido de morte (latrocínio)']\n",
        "\n",
        "for k in range(2, 10):\n",
        "\n",
        "  kmeans = KMeans(n_clusters=k)\n",
        "  kmeans.fit(baseSPEstados[columns])\n",
        "  score_mean = metrics.silhouette_score(baseSPEstados[columns], kmeans.labels_, metric='euclidean')\n",
        "  print(k, score_mean)"
      ],
      "execution_count": null,
      "outputs": [
        {
          "output_type": "stream",
          "name": "stdout",
          "text": [
            "2 0.7515403609014013\n",
            "3 0.5361423693112732\n",
            "4 0.5442693730431563\n",
            "5 0.5501577746703735\n",
            "6 0.5531621848095125\n",
            "7 0.4374497536235187\n",
            "8 0.4400708205228288\n",
            "9 0.4214687747368996\n"
          ]
        }
      ]
    },
    {
      "cell_type": "code",
      "metadata": {
        "colab": {
          "base_uri": "https://localhost:8080/"
        },
        "id": "-QXGLU93MaS3",
        "outputId": "29fa9cf6-e501-4920-c420-877721474859"
      },
      "source": [
        "kmeans = KMeans(n_clusters=5)\n",
        "kmeans.fit(baseSPEstados[columns])"
      ],
      "execution_count": null,
      "outputs": [
        {
          "output_type": "execute_result",
          "data": {
            "text/plain": [
              "KMeans(n_clusters=5)"
            ]
          },
          "metadata": {},
          "execution_count": 27
        }
      ]
    },
    {
      "cell_type": "code",
      "metadata": {
        "colab": {
          "base_uri": "https://localhost:8080/",
          "height": 424
        },
        "id": "kMW61_DAMpGO",
        "outputId": "766255ea-6667-4428-e291-e99946c4c47b"
      },
      "source": [
        "clusters = kmeans.labels_.tolist()\n",
        "clusters_dict = { 'Ano': list(baseSPEstados.Ano), 'UF': baseSPEstados.UF, 'Região': baseSPEstados['Região'], 'cluster': clusters}\n",
        "baseSPEstados_clusters = pd.DataFrame(clusters_dict, columns = ['cluster','Ano', 'UF', 'Região'])\n",
        "\n",
        "baseSPEstados_clusters"
      ],
      "execution_count": null,
      "outputs": [
        {
          "output_type": "execute_result",
          "data": {
            "text/html": [
              "<div>\n",
              "<style scoped>\n",
              "    .dataframe tbody tr th:only-of-type {\n",
              "        vertical-align: middle;\n",
              "    }\n",
              "\n",
              "    .dataframe tbody tr th {\n",
              "        vertical-align: top;\n",
              "    }\n",
              "\n",
              "    .dataframe thead th {\n",
              "        text-align: right;\n",
              "    }\n",
              "</style>\n",
              "<table border=\"1\" class=\"dataframe\">\n",
              "  <thead>\n",
              "    <tr style=\"text-align: right;\">\n",
              "      <th></th>\n",
              "      <th>cluster</th>\n",
              "      <th>Ano</th>\n",
              "      <th>UF</th>\n",
              "      <th>Região</th>\n",
              "    </tr>\n",
              "  </thead>\n",
              "  <tbody>\n",
              "    <tr>\n",
              "      <th>0</th>\n",
              "      <td>3</td>\n",
              "      <td>2015</td>\n",
              "      <td>Acre</td>\n",
              "      <td>NORTE</td>\n",
              "    </tr>\n",
              "    <tr>\n",
              "      <th>1</th>\n",
              "      <td>3</td>\n",
              "      <td>2015</td>\n",
              "      <td>Alagoas</td>\n",
              "      <td>NORDESTE</td>\n",
              "    </tr>\n",
              "    <tr>\n",
              "      <th>2</th>\n",
              "      <td>3</td>\n",
              "      <td>2015</td>\n",
              "      <td>Amapá</td>\n",
              "      <td>NORTE</td>\n",
              "    </tr>\n",
              "    <tr>\n",
              "      <th>3</th>\n",
              "      <td>0</td>\n",
              "      <td>2015</td>\n",
              "      <td>Amazonas</td>\n",
              "      <td>NORTE</td>\n",
              "    </tr>\n",
              "    <tr>\n",
              "      <th>4</th>\n",
              "      <td>4</td>\n",
              "      <td>2015</td>\n",
              "      <td>Bahia</td>\n",
              "      <td>NORDESTE</td>\n",
              "    </tr>\n",
              "    <tr>\n",
              "      <th>...</th>\n",
              "      <td>...</td>\n",
              "      <td>...</td>\n",
              "      <td>...</td>\n",
              "      <td>...</td>\n",
              "    </tr>\n",
              "    <tr>\n",
              "      <th>157</th>\n",
              "      <td>3</td>\n",
              "      <td>2020</td>\n",
              "      <td>Roraima</td>\n",
              "      <td>NORTE</td>\n",
              "    </tr>\n",
              "    <tr>\n",
              "      <th>158</th>\n",
              "      <td>3</td>\n",
              "      <td>2020</td>\n",
              "      <td>Santa Catarina</td>\n",
              "      <td>SUL</td>\n",
              "    </tr>\n",
              "    <tr>\n",
              "      <th>159</th>\n",
              "      <td>3</td>\n",
              "      <td>2020</td>\n",
              "      <td>Sergipe</td>\n",
              "      <td>NORDESTE</td>\n",
              "    </tr>\n",
              "    <tr>\n",
              "      <th>160</th>\n",
              "      <td>1</td>\n",
              "      <td>2020</td>\n",
              "      <td>São Paulo</td>\n",
              "      <td>SUDESTE</td>\n",
              "    </tr>\n",
              "    <tr>\n",
              "      <th>161</th>\n",
              "      <td>3</td>\n",
              "      <td>2020</td>\n",
              "      <td>Tocantins</td>\n",
              "      <td>NORTE</td>\n",
              "    </tr>\n",
              "  </tbody>\n",
              "</table>\n",
              "<p>162 rows × 4 columns</p>\n",
              "</div>"
            ],
            "text/plain": [
              "     cluster   Ano              UF    Região\n",
              "0          3  2015            Acre     NORTE\n",
              "1          3  2015         Alagoas  NORDESTE\n",
              "2          3  2015           Amapá     NORTE\n",
              "3          0  2015        Amazonas     NORTE\n",
              "4          4  2015           Bahia  NORDESTE\n",
              "..       ...   ...             ...       ...\n",
              "157        3  2020         Roraima     NORTE\n",
              "158        3  2020  Santa Catarina       SUL\n",
              "159        3  2020         Sergipe  NORDESTE\n",
              "160        1  2020       São Paulo   SUDESTE\n",
              "161        3  2020       Tocantins     NORTE\n",
              "\n",
              "[162 rows x 4 columns]"
            ]
          },
          "metadata": {},
          "execution_count": 28
        }
      ]
    },
    {
      "cell_type": "markdown",
      "metadata": {
        "id": "xtZ3qxiPvJjO"
      },
      "source": [
        "**Hierárquico**"
      ]
    },
    {
      "cell_type": "code",
      "metadata": {
        "id": "NG139prwvcoC"
      },
      "source": [
        "import scipy.cluster.hierarchy as shc\n",
        "import matplotlib.pyplot as plt\n",
        "from sklearn.cluster import AgglomerativeClustering"
      ],
      "execution_count": null,
      "outputs": []
    },
    {
      "cell_type": "code",
      "metadata": {
        "colab": {
          "base_uri": "https://localhost:8080/",
          "height": 879
        },
        "id": "sbZo5Y8uvRON",
        "outputId": "0e4ebf1e-6b6c-461f-e4ca-bcb9574e9121"
      },
      "source": [
        "plt.figure(figsize=(15, 15))\n",
        "plt.title(\"Customer Dendrograms\")\n",
        "dend = shc.dendrogram(shc.linkage(baseSPEstados[columns], method='ward'))"
      ],
      "execution_count": null,
      "outputs": [
        {
          "output_type": "display_data",
          "data": {
            "image/png": "[encoded data removed]",
            "text/plain": [
              "<Figure size 1080x1080 with 1 Axes>"
            ]
          },
          "metadata": {
            "needs_background": "light"
          }
        }
      ]
    },
    {
      "cell_type": "code",
      "metadata": {
        "id": "_FrEIoGp4X9M",
        "colab": {
          "base_uri": "https://localhost:8080/"
        },
        "outputId": "bdaf6c75-c0f0-4b8f-c56f-5668a9793259"
      },
      "source": [
        "agg_cluster = AgglomerativeClustering(affinity='euclidean', linkage='ward', n_clusters=5)\n",
        "agg_cluster.fit(baseSPEstados[columns])"
      ],
      "execution_count": null,
      "outputs": [
        {
          "output_type": "execute_result",
          "data": {
            "text/plain": [
              "AgglomerativeClustering(n_clusters=5)"
            ]
          },
          "metadata": {},
          "execution_count": 31
        }
      ]
    },
    {
      "cell_type": "code",
      "metadata": {
        "id": "eopQ2XzV4sg5"
      },
      "source": [
        "clusters_h = agg_cluster.labels_.tolist()\n",
        "clusters_dict_h = { 'Ano': list(baseSPEstados.Ano), 'UF': baseSPEstados.UF, 'Região': baseSPEstados['Região'], 'cluster': clusters_h}\n",
        "dataframe_clusters_h = pd.DataFrame(clusters_dict_h, columns = ['cluster','Ano', 'UF', 'Região'])"
      ],
      "execution_count": null,
      "outputs": []
    },
    {
      "cell_type": "code",
      "metadata": {
        "colab": {
          "base_uri": "https://localhost:8080/",
          "height": 424
        },
        "id": "tFcnwALV5qLf",
        "outputId": "dcc6c4c6-2f95-44af-dd59-ba10c90248f5"
      },
      "source": [
        "dataframe_clusters_h"
      ],
      "execution_count": null,
      "outputs": [
        {
          "output_type": "execute_result",
          "data": {
            "text/html": [
              "<div>\n",
              "<style scoped>\n",
              "    .dataframe tbody tr th:only-of-type {\n",
              "        vertical-align: middle;\n",
              "    }\n",
              "\n",
              "    .dataframe tbody tr th {\n",
              "        vertical-align: top;\n",
              "    }\n",
              "\n",
              "    .dataframe thead th {\n",
              "        text-align: right;\n",
              "    }\n",
              "</style>\n",
              "<table border=\"1\" class=\"dataframe\">\n",
              "  <thead>\n",
              "    <tr style=\"text-align: right;\">\n",
              "      <th></th>\n",
              "      <th>cluster</th>\n",
              "      <th>Ano</th>\n",
              "      <th>UF</th>\n",
              "      <th>Região</th>\n",
              "    </tr>\n",
              "  </thead>\n",
              "  <tbody>\n",
              "    <tr>\n",
              "      <th>0</th>\n",
              "      <td>0</td>\n",
              "      <td>2015</td>\n",
              "      <td>Acre</td>\n",
              "      <td>NORTE</td>\n",
              "    </tr>\n",
              "    <tr>\n",
              "      <th>1</th>\n",
              "      <td>0</td>\n",
              "      <td>2015</td>\n",
              "      <td>Alagoas</td>\n",
              "      <td>NORDESTE</td>\n",
              "    </tr>\n",
              "    <tr>\n",
              "      <th>2</th>\n",
              "      <td>0</td>\n",
              "      <td>2015</td>\n",
              "      <td>Amapá</td>\n",
              "      <td>NORTE</td>\n",
              "    </tr>\n",
              "    <tr>\n",
              "      <th>3</th>\n",
              "      <td>0</td>\n",
              "      <td>2015</td>\n",
              "      <td>Amazonas</td>\n",
              "      <td>NORTE</td>\n",
              "    </tr>\n",
              "    <tr>\n",
              "      <th>4</th>\n",
              "      <td>4</td>\n",
              "      <td>2015</td>\n",
              "      <td>Bahia</td>\n",
              "      <td>NORDESTE</td>\n",
              "    </tr>\n",
              "    <tr>\n",
              "      <th>...</th>\n",
              "      <td>...</td>\n",
              "      <td>...</td>\n",
              "      <td>...</td>\n",
              "      <td>...</td>\n",
              "    </tr>\n",
              "    <tr>\n",
              "      <th>157</th>\n",
              "      <td>0</td>\n",
              "      <td>2020</td>\n",
              "      <td>Roraima</td>\n",
              "      <td>NORTE</td>\n",
              "    </tr>\n",
              "    <tr>\n",
              "      <th>158</th>\n",
              "      <td>0</td>\n",
              "      <td>2020</td>\n",
              "      <td>Santa Catarina</td>\n",
              "      <td>SUL</td>\n",
              "    </tr>\n",
              "    <tr>\n",
              "      <th>159</th>\n",
              "      <td>0</td>\n",
              "      <td>2020</td>\n",
              "      <td>Sergipe</td>\n",
              "      <td>NORDESTE</td>\n",
              "    </tr>\n",
              "    <tr>\n",
              "      <th>160</th>\n",
              "      <td>1</td>\n",
              "      <td>2020</td>\n",
              "      <td>São Paulo</td>\n",
              "      <td>SUDESTE</td>\n",
              "    </tr>\n",
              "    <tr>\n",
              "      <th>161</th>\n",
              "      <td>0</td>\n",
              "      <td>2020</td>\n",
              "      <td>Tocantins</td>\n",
              "      <td>NORTE</td>\n",
              "    </tr>\n",
              "  </tbody>\n",
              "</table>\n",
              "<p>162 rows × 4 columns</p>\n",
              "</div>"
            ],
            "text/plain": [
              "     cluster   Ano              UF    Região\n",
              "0          0  2015            Acre     NORTE\n",
              "1          0  2015         Alagoas  NORDESTE\n",
              "2          0  2015           Amapá     NORTE\n",
              "3          0  2015        Amazonas     NORTE\n",
              "4          4  2015           Bahia  NORDESTE\n",
              "..       ...   ...             ...       ...\n",
              "157        0  2020         Roraima     NORTE\n",
              "158        0  2020  Santa Catarina       SUL\n",
              "159        0  2020         Sergipe  NORDESTE\n",
              "160        1  2020       São Paulo   SUDESTE\n",
              "161        0  2020       Tocantins     NORTE\n",
              "\n",
              "[162 rows x 4 columns]"
            ]
          },
          "metadata": {},
          "execution_count": 33
        }
      ]
    },
    {
      "cell_type": "code",
      "metadata": {
        "colab": {
          "base_uri": "https://localhost:8080/"
        },
        "id": "OUlMNq6i7We2",
        "outputId": "820a9645-7459-4ff0-e789-c48038eaa485"
      },
      "source": [
        "from sklearn import metrics\n",
        "metrics.silhouette_score(baseSPEstados[columns], agg_cluster.labels_, metric='euclidean')"
      ],
      "execution_count": null,
      "outputs": [
        {
          "output_type": "execute_result",
          "data": {
            "text/plain": [
              "0.5414118997168986"
            ]
          },
          "metadata": {},
          "execution_count": 34
        }
      ]
    },
    {
      "cell_type": "code",
      "metadata": {
        "colab": {
          "base_uri": "https://localhost:8080/"
        },
        "id": "iRdfZk8e7csy",
        "outputId": "a6a454b7-19c6-4fb1-d9b0-78b58f1b8c67"
      },
      "source": [
        "metrics.silhouette_score(baseSPEstados[columns], kmeans.labels_, metric='euclidean')"
      ],
      "execution_count": null,
      "outputs": [
        {
          "output_type": "execute_result",
          "data": {
            "text/plain": [
              "0.5501577746703735"
            ]
          },
          "metadata": {},
          "execution_count": 35
        }
      ]
    },
    {
      "cell_type": "markdown",
      "metadata": {
        "id": "pZpLRYfu9xon"
      },
      "source": [
        "K-Means:\n",
        "\n",
        "Número de Cluster = 4  \n",
        "Silhouette 0.5442693730431563 \n",
        "\n",
        "Número de Cluster = 5  \n",
        "Silhouette 0.5501577746703735\n",
        "\n",
        "Hierárquico:\n",
        "\n",
        "Número de Cluster = 4  \n",
        "Silhouette 0.5489846251134068 \n",
        "\n",
        "Número de Cluster = 6  \n",
        "Silhouette = 0.39818585687396796"
      ]
    },
    {
      "cell_type": "markdown",
      "metadata": {
        "id": "9cyvqIsB_gpN"
      },
      "source": [
        "## **Importar para excel**"
      ]
    },
    {
      "cell_type": "code",
      "metadata": {
        "id": "fgxwcPzT_nN2"
      },
      "source": [
        "dataframe_clusters_h.to_excel(r'C:\\clusters_hierarquico.xlsx', index=False)\n",
        "dataframe_clusters.to_excel(r'C:\\clusters_kmeans.xlsx', index=False)"
      ],
      "execution_count": null,
      "outputs": []
    },
    {
      "cell_type": "markdown",
      "metadata": {
        "id": "nODXiaAdJeXA"
      },
      "source": [
        "."
      ]
    },
    {
      "cell_type": "markdown",
      "metadata": {
        "id": "K_9OsLcNJZkm"
      },
      "source": [
        "**Rascunhos**"
      ]
    },
    {
      "cell_type": "code",
      "metadata": {
        "id": "r8dCowPsli_7"
      },
      "source": [
        "baseSPEstados = pd.DataFrame()\n",
        "\n",
        "colunaAno = pd.Series([])\n",
        "colunaUf = pd.Series([])\n",
        "colunaOcorrencias = pd.Series([])\n",
        "\n",
        "row = 0\n",
        "\n",
        "for index, value in groupAnoUf.iteritems():\n",
        "  colunaAno[row] = index[0]\n",
        "  colunaUf[row] = index[1]\n",
        "  colunaOcorrencias[row] = value\n",
        "  row += 1\n",
        "\n",
        "baseSPEstados['Ano'] = colunaAno\n",
        "baseSPEstados['UF'] = colunaUf\n",
        "baseSPEstados['Ocorrências'] = colunaOcorrencias\n",
        "\n",
        "baseSPEstados = pd.DataFrame(baseSPEstados, columns=['UF', 'Ano', 'População', 'Ocorrências'])\n"
      ],
      "execution_count": null,
      "outputs": []
    },
    {
      "cell_type": "code",
      "metadata": {
        "id": "hCIRqLfI9U3t"
      },
      "source": [
        "basePopulacao = pd.read_excel(\"/content/drive/MyDrive/MachineLearning_Files/serie_2015_2020_TCU.xls\", sheet_name=\"Plan1\")\n",
        "\n",
        "basePopulacao.head(20)"
      ],
      "execution_count": null,
      "outputs": []
    },
    {
      "cell_type": "code",
      "metadata": {
        "id": "W_1KNnwv_jNE"
      },
      "source": [
        "unidades = basePopulacao['Unidades da Federação']\n",
        "\n",
        "for uf in unidades:\n",
        "  baseSPEstado = baseSPEstados['UF'] == uf\n",
        "  baseSPEstado = baseSPEstados[baseSPEstado]\n",
        "\n",
        "  populacao = basePopulacao['Unidades da Federação'] == uf\n",
        "  populacao = basePopulacao[populacao]\n",
        "\n",
        "  \n",
        "\n"
      ],
      "execution_count": null,
      "outputs": []
    }
  ]
}